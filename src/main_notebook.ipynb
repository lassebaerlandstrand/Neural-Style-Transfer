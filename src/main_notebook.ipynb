{
 "cells": [
  {
   "cell_type": "markdown",
   "metadata": {},
   "source": [
    "# Neural Style Transfer Example"
   ]
  },
  {
   "cell_type": "markdown",
   "metadata": {},
   "source": [
    "### Import libraries"
   ]
  },
  {
   "cell_type": "code",
   "execution_count": 72,
   "metadata": {},
   "outputs": [],
   "source": [
    "import torch\n",
    "from utils import load_image_as_tensor, display_image_in_notebook\n",
    "from model import NeuralStyleTransfer"
   ]
  },
  {
   "cell_type": "markdown",
   "metadata": {},
   "source": [
    "### Load images"
   ]
  },
  {
   "cell_type": "code",
   "execution_count": null,
   "metadata": {},
   "outputs": [],
   "source": [
    "device = torch.device(\"cuda\" if torch.cuda.is_available() else \"cpu\")\n",
    "print(f\"Using device: {device}\")"
   ]
  },
  {
   "cell_type": "code",
   "execution_count": 74,
   "metadata": {},
   "outputs": [],
   "source": [
    "content_image = load_image_as_tensor(\"data/content/batad_rice_terraces.jpg\", device)\n",
    "style_image = load_image_as_tensor(\"data/styles/scream.jpg\", device)"
   ]
  },
  {
   "cell_type": "code",
   "execution_count": null,
   "metadata": {},
   "outputs": [],
   "source": [
    "display_image_in_notebook(content_image, title=\"Content Image\")\n",
    "display_image_in_notebook(style_image, title=\"Style Image\")"
   ]
  },
  {
   "cell_type": "markdown",
   "metadata": {},
   "source": [
    "### Use the Neural Style Transfer model"
   ]
  },
  {
   "cell_type": "code",
   "execution_count": null,
   "metadata": {},
   "outputs": [],
   "source": [
    "nst = NeuralStyleTransfer(device)\n",
    "\n",
    "output_image = nst.perform_neural_style_transfer(\n",
    "    content_image=content_image,\n",
    "    style_image=style_image,\n",
    "    steps=2000,\n",
    "    content_weight=1e6, # Higher content weight for better content preservation\n",
    "    style_weight=1e5, # Higher style weight for better style transfer\n",
    "    total_variation_weight=3e1, # Higher total variation weight for less noise/smoother results\n",
    "    learning_rate=3e0,\n",
    "    logging_enabled=True\n",
    ")"
   ]
  },
  {
   "cell_type": "code",
   "execution_count": null,
   "metadata": {},
   "outputs": [],
   "source": [
    "display_image_in_notebook(output_image, title=\"Output Image\")"
   ]
  }
 ],
 "metadata": {
  "kernelspec": {
   "display_name": ".venv",
   "language": "python",
   "name": "python3"
  },
  "language_info": {
   "codemirror_mode": {
    "name": "ipython",
    "version": 3
   },
   "file_extension": ".py",
   "mimetype": "text/x-python",
   "name": "python",
   "nbconvert_exporter": "python",
   "pygments_lexer": "ipython3",
   "version": "3.12.8"
  }
 },
 "nbformat": 4,
 "nbformat_minor": 2
}
